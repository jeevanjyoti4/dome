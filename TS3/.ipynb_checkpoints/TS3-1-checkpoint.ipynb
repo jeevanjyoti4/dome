{
 "cells": [
  {
   "attachments": {
    "image-2.png": {
     "image/png": "[encoded data removed]"
    }
   },
   "cell_type": "markdown",
   "id": "577d282b",
   "metadata": {},
   "source": [
    "![image-2.png](attachment:image-2.png)"
   ]
  },
  {
   "cell_type": "markdown",
   "id": "244cae75",
   "metadata": {},
   "source": [
    "Since $S_{ut} > 1400$ MPa, $S_e = 700$ MPa. (Here, we don't need to worry about the Marin factors.)\n",
    "\n",
    "Now, the completely reversed stress amplitude of 900 MPa is larger than the $S_e$. So it is a case of finite life. \n",
    "\n",
    "From Fig. 6-23 (Shigley, 10th edition), we will find $f$. But the given $S_{ut} = 1600$ MPa is outside the range of values given in the abscissa of that figure. So, we estimate $f$ to be between 0.76 and 0.78. Let's take it to be 0.77.  \n",
    "\n",
    "Let's calculate the value of $f S_{ut}$. "
   ]
  },
  {
   "cell_type": "code",
   "execution_count": 1,
   "id": "8dd23ba9",
   "metadata": {},
   "outputs": [
    {
     "data": {
      "text/plain": [
       "1232.0"
      ]
     },
     "execution_count": 1,
     "metadata": {},
     "output_type": "execute_result"
    }
   ],
   "source": [
    "f = 0.77\n",
    "Sut = 1600\n",
    "\n",
    "f*Sut"
   ]
  },
  {
   "cell_type": "markdown",
   "id": "dd6e0630",
   "metadata": {},
   "source": [
    "Note that the given reversed stress amplitude, $\\sigma_{\\rm rev}$ is such that: $fS_{ut} < \\sigma_{\\rm rev} < S_e$. So, it is a case of high cycle, finite life. So, we are operating in the mid-segment of the idealized S-N diagram. \n",
    "\n",
    "To determine the number of cycles from the relation $S_f = a N^b$, we need to find $a$ and $b$. Here, $S_f$ itself is equal to $\\sigma_{\\rm rev}$.  \n",
    "\n",
    "\\begin{align*}\n",
    "a &= \\frac{(f S_{ut})^2}{S_e}, \\\\\n",
    "b &= -\\frac{1}{3} \\log\\left( \\frac{fS_{ut}}{S_e} \\right)\n",
    "\\end{align*}"
   ]
  },
  {
   "cell_type": "code",
   "execution_count": 2,
   "id": "d1b0a59e",
   "metadata": {},
   "outputs": [],
   "source": [
    "from math import log10"
   ]
  },
  {
   "cell_type": "code",
   "execution_count": 3,
   "id": "16de8cf3",
   "metadata": {},
   "outputs": [
    {
     "data": {
      "text/plain": [
       "2168.32"
      ]
     },
     "metadata": {},
     "output_type": "display_data"
    },
    {
     "data": {
      "text/plain": [
       "-0.08183755593804994"
      ]
     },
     "metadata": {},
     "output_type": "display_data"
    }
   ],
   "source": [
    "Se = 700\n",
    "Sf = 900\n",
    "\n",
    "a = (f*Sut)**2/Se\n",
    "b = -1/3*log10(f*Sut/Se)\n",
    "display(a, b)"
   ]
  },
  {
   "cell_type": "code",
   "execution_count": 4,
   "id": "ac6f0ffc",
   "metadata": {},
   "outputs": [
    {
     "data": {
      "text/plain": [
       "46379.69058567643"
      ]
     },
     "metadata": {},
     "output_type": "display_data"
    }
   ],
   "source": [
    "N = (Sf/a)**(1/b)\n",
    "display(N)"
   ]
  },
  {
   "cell_type": "code",
   "execution_count": null,
   "id": "7b6376a3",
   "metadata": {},
   "outputs": [],
   "source": []
  }
 ],
 "metadata": {
  "kernelspec": {
   "display_name": "Python 3 (ipykernel)",
   "language": "python",
   "name": "python3"
  },
  "language_info": {
   "codemirror_mode": {
    "name": "ipython",
    "version": 3
   },
   "file_extension": ".py",
   "mimetype": "text/x-python",
   "name": "python",
   "nbconvert_exporter": "python",
   "pygments_lexer": "ipython3",
   "version": "3.8.12"
  }
 },
 "nbformat": 4,
 "nbformat_minor": 5
}
